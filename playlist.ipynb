{
 "cells": [
  {
   "cell_type": "markdown",
   "metadata": {},
   "source": [
    "# Set Up"
   ]
  },
  {
   "cell_type": "code",
   "execution_count": 1,
   "metadata": {},
   "outputs": [],
   "source": [
    "import pandas as pd\n",
    "from langdetect import detect"
   ]
  },
  {
   "cell_type": "code",
   "execution_count": 2,
   "metadata": {},
   "outputs": [],
   "source": [
    "import spotiscience as sps"
   ]
  },
  {
   "cell_type": "markdown",
   "metadata": {},
   "source": [
    "# Credentials"
   ]
  },
  {
   "cell_type": "code",
   "execution_count": 3,
   "metadata": {},
   "outputs": [],
   "source": [
    "U2FsdGVkX1+7eWPDrqIOtiNw5UeWPNoroRpUfYUqV8hP50a5kD/l0OLXWaKkIm98x56vOiopm6Jz2mdM\n",
    "BvXG2Z/VFBUKSmH+SUv2FMh5XWIVhpEEA2EeiBn6lPqsBeQLOrIGjzfBademzBEzyst66fHg4xrHFo64\n",
    "RhFu+f0eftK63l41LdZDtAK/FUEPWtU70pXdHLqmjA0BPdLHWHSWuqEVErmg0xNCEtUirFw08oGe1huY\n",
    "+o7S99+owDUKsUvbsOPgiPFXq+KF/wDXfUA7jRKdEiF/Zug4knTUsGUoxU/5ZkdO6GXz3hdrwtir99CG\n",
    "8k/f0RMABY7eJ++8LUMzafsm4M19Fqab0B7/DIIndyfpaxNF4irvR3FuTSycdNAM"
   ]
  },
  {
   "cell_type": "markdown",
   "metadata": {},
   "source": [
    "# Downloader"
   ]
  },
  {
   "cell_type": "markdown",
   "metadata": {},
   "source": [
    "## Set Up"
   ]
  },
  {
   "cell_type": "code",
   "execution_count": 4,
   "metadata": {},
   "outputs": [],
   "source": [
    "#create a dictionary with authorization keys\n",
    "CREDENTIALS = {}\n",
    "CREDENTIALS['client_id'] = client_id\n",
    "CREDENTIALS['client_secret'] = client_secret\n",
    "CREDENTIALS['redirect_url'] = redirect_url\n",
    "CREDENTIALS['user_id'] = userid\n",
    "CREDENTIALS['genius_access_token'] = genius_access_token\n",
    "\n",
    "\"\"\"You also can set your credentials id on credentials.py and import from spotiscience\"\"\"\n",
    "\n",
    "# returns 'downloader class'\n",
    "sd = sps.downloader.SpotiScienceDownloader(credentials=CREDENTIALS)\n"
   ]
  },
  {
   "cell_type": "markdown",
   "metadata": {},
   "source": [
    "## Playlist download"
   ]
  },
  {
   "cell_type": "code",
   "execution_count": 5,
   "metadata": {},
   "outputs": [
    {
     "name": "stdout",
     "output_type": "stream",
     "text": [
      "Downloading Playlist...\n",
      "Playlist fusion downloaded!\n"
     ]
    }
   ],
   "source": [
    "#Return song features of playlist\n",
    "playlist = 'https://open.spotify.com/playlist/1UseUQhEDVhhHwfXxiVzP2?si=11a972b658a449c1'\n",
    "playlist_data = sd.get_playlist_song_features(playlist_id=playlist,n_songs=50)"
   ]
  },
  {
   "cell_type": "code",
   "execution_count": 6,
   "metadata": {},
   "outputs": [],
   "source": [
    "song = playlist_data['fusion'][0]"
   ]
  },
  {
   "cell_type": "markdown",
   "metadata": {},
   "source": [
    "## Artist info"
   ]
  },
  {
   "cell_type": "code",
   "execution_count": 7,
   "metadata": {},
   "outputs": [
    {
     "data": {
      "text/plain": [
       "{'artists': {'href': 'https://api.spotify.com/v1/search?query=metallica&type=artist&offset=0&limit=1',\n",
       "  'items': [{'external_urls': {'spotify': 'https://open.spotify.com/artist/2ye2Wgw4gimLv2eAKyk1NB'},\n",
       "    'followers': {'href': None, 'total': 22790700},\n",
       "    'genres': ['hard rock',\n",
       "     'metal',\n",
       "     'old school thrash',\n",
       "     'rock',\n",
       "     'thrash metal'],\n",
       "    'href': 'https://api.spotify.com/v1/artists/2ye2Wgw4gimLv2eAKyk1NB',\n",
       "    'id': '2ye2Wgw4gimLv2eAKyk1NB',\n",
       "    'images': [{'height': 640,\n",
       "      'url': 'https://i.scdn.co/image/ab6761610000e5eb8101d13bdd630b0889acd2fd',\n",
       "      'width': 640},\n",
       "     {'height': 320,\n",
       "      'url': 'https://i.scdn.co/image/ab676161000051748101d13bdd630b0889acd2fd',\n",
       "      'width': 320},\n",
       "     {'height': 160,\n",
       "      'url': 'https://i.scdn.co/image/ab6761610000f1788101d13bdd630b0889acd2fd',\n",
       "      'width': 160}],\n",
       "    'name': 'Metallica',\n",
       "    'popularity': 81,\n",
       "    'type': 'artist',\n",
       "    'uri': 'spotify:artist:2ye2Wgw4gimLv2eAKyk1NB'}],\n",
       "  'limit': 1,\n",
       "  'next': 'https://api.spotify.com/v1/search?query=metallica&type=artist&offset=1&limit=1',\n",
       "  'offset': 0,\n",
       "  'previous': None,\n",
       "  'total': 29}}"
      ]
     },
     "execution_count": 7,
     "metadata": {},
     "output_type": "execute_result"
    }
   ],
   "source": [
    "# On peut obtenir des informations des artistes directement\n",
    "# problème : demande à chaque fois l'autorisation so meh for automatisation\n",
    "artist = 'metallica'\n",
    "sd.get_artist_information(artist=artist)"
   ]
  },
  {
   "cell_type": "markdown",
   "metadata": {},
   "source": [
    "# Prediction : mood and topics"
   ]
  },
  {
   "cell_type": "code",
   "execution_count": 8,
   "metadata": {},
   "outputs": [],
   "source": [
    "# returns 'predicter class'\n",
    "sp = sps.SpotiSciencePredicter()"
   ]
  },
  {
   "cell_type": "markdown",
   "metadata": {},
   "source": [
    "## Mood"
   ]
  },
  {
   "cell_type": "code",
   "execution_count": 9,
   "metadata": {},
   "outputs": [
    {
     "name": "stderr",
     "output_type": "stream",
     "text": [
      "c:\\Users\\leopo\\anaconda3\\envs\\spotify\\lib\\site-packages\\sklearn\\base.py:329: UserWarning: Trying to unpickle estimator MinMaxScaler from version 0.24.2 when using version 1.1.3. This might lead to breaking code or invalid results. Use at your own risk. For more info please refer to:\n",
      "https://scikit-learn.org/stable/model_persistence.html#security-maintainability-limitations\n",
      "  warnings.warn(\n",
      "c:\\Users\\leopo\\anaconda3\\envs\\spotify\\lib\\site-packages\\sklearn\\base.py:329: UserWarning: Trying to unpickle estimator DecisionTreeClassifier from version 0.24.2 when using version 1.1.3. This might lead to breaking code or invalid results. Use at your own risk. For more info please refer to:\n",
      "https://scikit-learn.org/stable/model_persistence.html#security-maintainability-limitations\n",
      "  warnings.warn(\n",
      "c:\\Users\\leopo\\anaconda3\\envs\\spotify\\lib\\site-packages\\sklearn\\base.py:329: UserWarning: Trying to unpickle estimator RandomForestClassifier from version 0.24.2 when using version 1.1.3. This might lead to breaking code or invalid results. Use at your own risk. For more info please refer to:\n",
      "https://scikit-learn.org/stable/model_persistence.html#security-maintainability-limitations\n",
      "  warnings.warn(\n",
      "c:\\Users\\leopo\\anaconda3\\envs\\spotify\\lib\\site-packages\\sklearn\\base.py:329: UserWarning: Trying to unpickle estimator Pipeline from version 0.24.2 when using version 1.1.3. This might lead to breaking code or invalid results. Use at your own risk. For more info please refer to:\n",
      "https://scikit-learn.org/stable/model_persistence.html#security-maintainability-limitations\n",
      "  warnings.warn(\n"
     ]
    }
   ],
   "source": [
    "#returns the tag of mood \n",
    "mood = sp.predict_song_mood(song=song)\n",
    "song['mood'] = mood"
   ]
  },
  {
   "cell_type": "markdown",
   "metadata": {},
   "source": [
    "## Get Song Genre"
   ]
  },
  {
   "cell_type": "code",
   "execution_count": 10,
   "metadata": {},
   "outputs": [],
   "source": [
    "genre = sd.get_song_music_genre(song_id=song['id'])\n",
    "song['genre'] = genre"
   ]
  },
  {
   "cell_type": "markdown",
   "metadata": {},
   "source": [
    "## Lyrics topics prediction"
   ]
  },
  {
   "cell_type": "markdown",
   "metadata": {},
   "source": [
    "### Get Lyrics"
   ]
  },
  {
   "cell_type": "code",
   "execution_count": 11,
   "metadata": {},
   "outputs": [
    {
     "name": "stdout",
     "output_type": "stream",
     "text": [
      "Searching for \"Bones\" by Peter Bjorn and John...\n",
      "Done.\n"
     ]
    }
   ],
   "source": [
    "lyrics = sd.get_song_lyrics(songname=song['name'],artistname=song['artist'])"
   ]
  },
  {
   "cell_type": "markdown",
   "metadata": {},
   "source": [
    "The topic prediction of song lyrics uses any of the algorithms Latent Dirichlet Allocation Model (LDA), Non Negative Matrix Factorization Model (NMF) or Latent Semantic Indexing Model (LSI). To do this, I based my code on the following article which you can read here.\n",
    "\n",
    "To predict the topic of lyrics you must configure the following parameters:\n",
    "\n",
    "lyric = the lyric of the song\n",
    "\n",
    "model = the model to use [options are “lsi”,”lda” or “nmf”]\n",
    "\n",
    "lang = language of the song lyric [options are “english” or “spanish”]\n",
    "\n",
    "n_grams = number of subsence of words to group\n",
    "\n",
    "n_topics = number of returned topics\n",
    "\n",
    "top_n = number of words per returned topic\n",
    "\n",
    "For more information about the parameter n_grams, you can read the official documentation about vectorization with sklearn by clicking here"
   ]
  },
  {
   "cell_type": "code",
   "execution_count": 12,
   "metadata": {},
   "outputs": [
    {
     "data": {
      "text/plain": [
       "\"Bones Lyrics\\nHaven't you heard that I'm falling to pieces?\\nIt suddenly hit me\\nIf I could go back and break the silence\\nThe words would still hurt\\nOnce again, I'm at the feet of a mountain\\nEvery day is a struggle, ooh\\nTry to escape through the eye of a needle\\nInto reality\\n\\nAnd I know that\\nThis comes out of the blue\\nBut I will go through\\nThis burning hell to reach you\\nI can break all the bones in my body\\nBut it won't change how I feel, change how I feel\\nI can spend all my days praying prayers\\nBut it won't change what I did, change what I did to you\\n\\nThere it goes, the tip of the iceberg\\nMy life's a disaster, ooh\\nIf I could go back and pick up the pieces\\nI would still be a fool\\nBuried alive under your silence\\nWe died with the sunset, ooh\\nNow I'm trying to string up a meaning\\nFrom our bone alphabet\\n\\nI deserve to\\nBurn in hell to come through\\nTo desert you\\nWas the best I could do\\n\\nI can break all the bones in my body\\nBut it won't change how I feel, change how I feel\\nI can spend all my days praying prayers\\nBut it won't change what I did, change what I did\\nI can break all the bones in my body\\nBut it won't change how I feel, change how I feel\\nI can spend all my days praying prayers\\nBut it won't change what I did, change what I did to youYou might also likeEmbed\""
      ]
     },
     "execution_count": 12,
     "metadata": {},
     "output_type": "execute_result"
    }
   ],
   "source": [
    "lyrics"
   ]
  },
  {
   "cell_type": "markdown",
   "metadata": {},
   "source": [
    "## Reconnaitre la langue"
   ]
  },
  {
   "cell_type": "code",
   "execution_count": 13,
   "metadata": {},
   "outputs": [],
   "source": [
    "from importlib import reload"
   ]
  },
  {
   "cell_type": "code",
   "execution_count": 14,
   "metadata": {},
   "outputs": [
    {
     "data": {
      "text/plain": [
       "<module 'spotiscience.prediction' from 'c:\\\\Users\\\\leopo\\\\OneDrive - GENES\\\\SpotifyProject\\\\Spotify-Playlist-Making\\\\spotiscience\\\\prediction.py'>"
      ]
     },
     "execution_count": 14,
     "metadata": {},
     "output_type": "execute_result"
    }
   ],
   "source": [
    "reload(sps)\n",
    "reload(sps.prediction)"
   ]
  },
  {
   "cell_type": "code",
   "execution_count": 15,
   "metadata": {},
   "outputs": [],
   "source": [
    "tableau_langue = {\n",
    "    'en' : 'english',\n",
    "    'fr' : 'french',\n",
    "    'es': 'spanish',\n",
    "    'de': 'german'\n",
    "}"
   ]
  },
  {
   "cell_type": "code",
   "execution_count": 16,
   "metadata": {},
   "outputs": [
    {
     "name": "stderr",
     "output_type": "stream",
     "text": [
      "c:\\Users\\leopo\\anaconda3\\envs\\spotify\\lib\\site-packages\\sklearn\\utils\\deprecation.py:87: FutureWarning: Function get_feature_names is deprecated; get_feature_names is deprecated in 1.0 and will be removed in 1.2. Please use get_feature_names_out instead.\n",
      "  warnings.warn(msg, category=FutureWarning)\n"
     ]
    },
    {
     "data": {
      "text/plain": [
       "defaultdict(list,\n",
       "            {'Topic 0:': [[('prayer', 2.8040109274312512),\n",
       "               ('pray', 2.7950530763480095),\n",
       "               ('spend', 2.779993025962891),\n",
       "               ('day', 2.774966742517706),\n",
       "               ('string', 1.1921521095969392),\n",
       "               ('fool', 1.1857348967493115),\n",
       "               ('meaning', 1.1752781758604711),\n",
       "               ('try', 1.1550282352530683),\n",
       "               ('youyou', 1.1057848678543734),\n",
       "               ('likeembed', 1.0553295149918815)]],\n",
       "             'Topic 1:': [[('change', 9.28570483093545),\n",
       "               ('feel', 5.205431451037413),\n",
       "               ('burn', 2.0084746812477605),\n",
       "               ('ooh', 1.9720183841858783),\n",
       "               ('hell', 1.9651896414078154),\n",
       "               ('deserve', 1.193463033704885),\n",
       "               ('struggle', 1.1723173466855255),\n",
       "               ('come', 1.171117870399832),\n",
       "               ('life', 1.1685195255141863),\n",
       "               ('reach', 1.1664349660026168)]],\n",
       "             'Topic 2:': [[('hurt', 1.193955390535067),\n",
       "               ('word', 1.1314651597423406),\n",
       "               ('change', 0.46691855247183695),\n",
       "               ('silence', 0.4149012381255392),\n",
       "               ('break', 0.3989404633239937),\n",
       "               ('die', 0.393712329416195),\n",
       "               ('escape', 0.391968232362758),\n",
       "               ('youyou', 0.38719248562388414),\n",
       "               ('try', 0.37697741382220473),\n",
       "               ('burn', 0.37463145853326885)]],\n",
       "             'Topic 3:': [[('bone', 4.386932398072609),\n",
       "               ('break', 3.5483724623123654),\n",
       "               ('body', 2.77940039247701),\n",
       "               ('piece', 1.9750153230398586),\n",
       "               ('silence', 1.905042340426682),\n",
       "               ('die', 1.2118281415081222),\n",
       "               ('pick', 1.2076978087353378),\n",
       "               ('hear', 1.187467927085655),\n",
       "               ('sunset', 1.1873705180568277),\n",
       "               ('alphabet', 1.1811787511215122)]],\n",
       "             'Topic 4:': [[('escape', 1.2023819727692664),\n",
       "               ('tip', 1.1814540558676518),\n",
       "               ('come', 1.1793726402730311),\n",
       "               ('desert', 1.175955211882478),\n",
       "               ('reality', 1.175397097637041),\n",
       "               ('good', 1.1753626018930157),\n",
       "               ('blue', 1.1735255087195984),\n",
       "               ('eye', 1.1698942581229783),\n",
       "               ('try', 1.163573502732387),\n",
       "               ('iceberg', 1.1604477414758223)]]})"
      ]
     },
     "execution_count": 16,
     "metadata": {},
     "output_type": "execute_result"
    }
   ],
   "source": [
    "model = 'lda' # (available type 'lda', 'lsi', 'nmf')\n",
    "lang = 'english' # (available type 'english','spanish', 'french', 'german')\n",
    "# vérifier pour les deux derniers\n",
    "n_grams = (1,1)\n",
    "n_topics = 1\n",
    "top_n = 5\n",
    "#predict the topics of the song lyric\n",
    "sp.predict_topic_lyric(lyrics,model,lang,n_grams,n_topics,top_n)"
   ]
  },
  {
   "cell_type": "code",
   "execution_count": null,
   "metadata": {},
   "outputs": [],
   "source": []
  }
 ],
 "metadata": {
  "kernelspec": {
   "display_name": "Python 3.10.8 ('spotify')",
   "language": "python",
   "name": "python3"
  },
  "language_info": {
   "codemirror_mode": {
    "name": "ipython",
    "version": 3
   },
   "file_extension": ".py",
   "mimetype": "text/x-python",
   "name": "python",
   "nbconvert_exporter": "python",
   "pygments_lexer": "ipython3",
   "version": "3.10.8"
  },
  "orig_nbformat": 2,
  "vscode": {
   "interpreter": {
    "hash": "799d35822260b865e0047a7cbeabbac3935807c2e6d2340d94cf57d360182bae"
   }
  }
 },
 "nbformat": 4,
 "nbformat_minor": 2
}
